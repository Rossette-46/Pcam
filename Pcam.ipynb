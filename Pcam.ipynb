{
  "cells": [
    {
      "cell_type": "markdown",
      "metadata": {
        "id": "v8WCVUHTKy5B"
      },
      "source": [
        "#Citation\n",
        "\n",
        "@ARTICLE{Veeling2018-qh,\n",
        "  title         = \"Rotation Equivariant {CNNs} for Digital Pathology\",\n",
        "  author        = \"Veeling, Bastiaan S and Linmans, Jasper and Winkens, Jim and\n",
        "                   Cohen, Taco and Welling, Max\",\n",
        "  month         =  jun,\n",
        "  year          =  2018,\n",
        "  archivePrefix = \"arXiv\",\n",
        "  primaryClass  = \"cs.CV\",\n",
        "  eprint        = \"1806.03962\"\n",
        "}"
      ]
    },
    {
      "cell_type": "code",
      "execution_count": 1,
      "metadata": {
        "id": "y5_RpoyXKQZX"
      },
      "outputs": [],
      "source": [
        "from google.colab import drive"
      ]
    },
    {
      "cell_type": "code",
      "execution_count": 2,
      "metadata": {
        "colab": {
          "base_uri": "https://localhost:8080/"
        },
        "id": "ObL-ebpHJKUL",
        "outputId": "5e54ac8c-8139-475e-dcd8-eb99650c8b00"
      },
      "outputs": [
        {
          "output_type": "stream",
          "name": "stdout",
          "text": [
            "Drive already mounted at /content/drive; to attempt to forcibly remount, call drive.mount(\"/content/drive\", force_remount=True).\n"
          ]
        }
      ],
      "source": [
        "drive.mount('/content/drive')"
      ]
    },
    {
      "cell_type": "code",
      "execution_count": 4,
      "metadata": {
        "id": "t4ckfmCOJ5GZ"
      },
      "outputs": [],
      "source": [
        "import h5py\n",
        "import tensorflow as tf\n",
        "from tensorflow.keras.models import Sequential\n",
        "from tensorflow.keras.layers import Input, GlobalAveragePooling2D\n",
        "from tensorflow.keras.layers import Conv2D, MaxPooling2D, Flatten, Dense, Dropout, BatchNormalization\n",
        "import gc\n"
      ]
    },
    {
      "cell_type": "code",
      "source": [
        "# Function to load data in batches\n",
        "def load_data_in_batches(file_path_x, file_path_y, batch_size):\n",
        "    with h5py.File(file_path_x, 'r') as data_file_x, h5py.File(file_path_y, 'r') as data_file_y:\n",
        "        data_x = data_file_x['x']\n",
        "        data_y = data_file_y['y'][:]\n",
        "        total_samples = len(data_x)\n",
        "        num_batches = total_samples // batch_size\n",
        "\n",
        "        for i in range(num_batches):\n",
        "            start_idx = i * batch_size\n",
        "            end_idx = min((i + 1) * batch_size, total_samples)\n",
        "            yield data_x[start_idx:end_idx], data_y[start_idx:end_idx].reshape(-1)  # Reshape labels\n"
      ],
      "metadata": {
        "id": "8XsC8r0crYgL"
      },
      "execution_count": 5,
      "outputs": []
    },
    {
      "cell_type": "code",
      "source": [
        "# Load train data in batches\n",
        "train_batches = load_data_in_batches('/content/drive/My Drive/patch/camelyonpatch_level_2_split_train_x.h5', '/content/drive/My Drive/patch/camelyonpatch_level_2_split_train_y.h5', batch_size=65536)\n"
      ],
      "metadata": {
        "id": "Lw6XvlW4ramG"
      },
      "execution_count": 6,
      "outputs": []
    },
    {
      "cell_type": "code",
      "source": [
        "model = Sequential([\n",
        "    Conv2D(32, (3, 3), activation='relu', input_shape=(96, 96, 3)),\n",
        "    MaxPooling2D((2, 2)),\n",
        "    Conv2D(64, (3, 3), activation='relu'),\n",
        "    MaxPooling2D((2, 2)),\n",
        "\n",
        "    Flatten(),\n",
        "    Dense(256, activation='relu'),\n",
        "    Dropout(0.5),\n",
        "    BatchNormalization(),\n",
        "\n",
        "    Dense(128, activation='relu'),\n",
        "    Dense(1, activation='sigmoid')\n",
        "])\n",
        "\n",
        "model.compile(optimizer='adam', loss='binary_crossentropy', metrics=['accuracy'])\n"
      ],
      "metadata": {
        "id": "vwzYM9KWrhTL"
      },
      "execution_count": 7,
      "outputs": []
    },
    {
      "cell_type": "code",
      "source": [
        "for batch_x, batch_y in train_batches:\n",
        "    # Train the model using each batch\n",
        "    for epoch in range(7):\n",
        "        # Prepare validation data for each epoch\n",
        "        with h5py.File('/content/drive/My Drive/patch/camelyonpatch_level_2_split_valid_x.h5', 'r') as valid_x_file:\n",
        "            valid_x = valid_x_file['x'][:]\n",
        "        with h5py.File('/content/drive/My Drive/patch/camelyonpatch_level_2_split_valid_y.h5', 'r') as valid_y_file:\n",
        "            valid_y = valid_y_file['y'][:].reshape(-1)  # Reshape validation labels\n",
        "\n",
        "        # Train the model with current batch and validation data\n",
        "        model.fit(batch_x, batch_y, epochs=1, batch_size=32, validation_data=(valid_x, valid_y))\n",
        "\n",
        "        # Clear memory after each epoch\n",
        "        del valid_x, valid_y\n",
        "        gc.collect()\n",
        "\n",
        "    # Clear memory after each batch\n",
        "    del batch_x, batch_y\n",
        "    gc.collect()"
      ],
      "metadata": {
        "colab": {
          "base_uri": "https://localhost:8080/"
        },
        "id": "QZRVztOjrkEa",
        "outputId": "2a2e4ab1-a93b-4605-c9e9-aee580878955"
      },
      "execution_count": 9,
      "outputs": [
        {
          "output_type": "stream",
          "name": "stdout",
          "text": [
            "2048/2048 [==============================] - 28s 14ms/step - loss: 0.6267 - accuracy: 0.5990 - val_loss: 0.5856 - val_accuracy: 0.7528\n",
            "2048/2048 [==============================] - 29s 14ms/step - loss: 0.4743 - accuracy: 0.7820 - val_loss: 0.5093 - val_accuracy: 0.7699\n",
            "2048/2048 [==============================] - 28s 14ms/step - loss: 0.5752 - accuracy: 0.6587 - val_loss: 0.6929 - val_accuracy: 0.5236\n",
            "2048/2048 [==============================] - 27s 13ms/step - loss: 0.6658 - accuracy: 0.5597 - val_loss: 0.7912 - val_accuracy: 0.6909\n",
            "2048/2048 [==============================] - 27s 13ms/step - loss: 0.5959 - accuracy: 0.6560 - val_loss: 0.8176 - val_accuracy: 0.5224\n",
            "2048/2048 [==============================] - 29s 14ms/step - loss: 0.5289 - accuracy: 0.7359 - val_loss: 0.6346 - val_accuracy: 0.6223\n",
            "2048/2048 [==============================] - 27s 13ms/step - loss: 0.4729 - accuracy: 0.7833 - val_loss: 0.5622 - val_accuracy: 0.7315\n",
            "2048/2048 [==============================] - 27s 13ms/step - loss: 0.4720 - accuracy: 0.7818 - val_loss: 0.6084 - val_accuracy: 0.6396\n",
            "2048/2048 [==============================] - 28s 14ms/step - loss: 0.4571 - accuracy: 0.7917 - val_loss: 1.5210 - val_accuracy: 0.6118\n",
            "2048/2048 [==============================] - 28s 14ms/step - loss: 0.4467 - accuracy: 0.7996 - val_loss: 3.0795 - val_accuracy: 0.6384\n",
            "2048/2048 [==============================] - 27s 13ms/step - loss: 0.4748 - accuracy: 0.7798 - val_loss: 0.6994 - val_accuracy: 0.6744\n",
            "2048/2048 [==============================] - 29s 14ms/step - loss: 0.4831 - accuracy: 0.7791 - val_loss: 4.0622 - val_accuracy: 0.5690\n",
            "2048/2048 [==============================] - 29s 14ms/step - loss: 0.4538 - accuracy: 0.7953 - val_loss: 4.3762 - val_accuracy: 0.7572\n",
            "2048/2048 [==============================] - 29s 14ms/step - loss: 0.4430 - accuracy: 0.8018 - val_loss: 7.6543 - val_accuracy: 0.7706\n",
            "2048/2048 [==============================] - 27s 13ms/step - loss: 0.4476 - accuracy: 0.7979 - val_loss: 0.5903 - val_accuracy: 0.7211\n",
            "2048/2048 [==============================] - 27s 13ms/step - loss: 0.4286 - accuracy: 0.8077 - val_loss: 0.5483 - val_accuracy: 0.7235\n",
            "2048/2048 [==============================] - 27s 13ms/step - loss: 0.4166 - accuracy: 0.8150 - val_loss: 0.5851 - val_accuracy: 0.7075\n",
            "2048/2048 [==============================] - 26s 13ms/step - loss: 0.4138 - accuracy: 0.8174 - val_loss: 0.5677 - val_accuracy: 0.6794\n",
            "2048/2048 [==============================] - 27s 13ms/step - loss: 0.3833 - accuracy: 0.8347 - val_loss: 0.4443 - val_accuracy: 0.8017\n",
            "2048/2048 [==============================] - 29s 14ms/step - loss: 0.4677 - accuracy: 0.7776 - val_loss: 0.5637 - val_accuracy: 0.7715\n",
            "2048/2048 [==============================] - 27s 13ms/step - loss: 0.4412 - accuracy: 0.8013 - val_loss: 1.4807 - val_accuracy: 0.7906\n"
          ]
        }
      ]
    },
    {
      "cell_type": "code",
      "source": [
        "# Load test data\n",
        "with h5py.File('/content/drive/My Drive/patch/camelyonpatch_level_2_split_test_x.h5', 'r') as test_x_file:\n",
        "    test_x = test_x_file['x'][:]\n",
        "with h5py.File('/content/drive/My Drive/patch/camelyonpatch_level_2_split_test_y.h5', 'r') as test_y_file:\n",
        "    test_y = test_y_file['y'][:].reshape(-1)  # Reshape test labels\n"
      ],
      "metadata": {
        "id": "ijnix3q0rrB8"
      },
      "execution_count": 11,
      "outputs": []
    },
    {
      "cell_type": "code",
      "source": [
        "# Evaluate the model on the test set\n",
        "test_loss, test_acc = model.evaluate(test_x, test_y, batch_size=32)\n",
        "print(f'Test accuracy: {test_acc}')"
      ],
      "metadata": {
        "colab": {
          "base_uri": "https://localhost:8080/"
        },
        "id": "Qu0uFJAjwg77",
        "outputId": "93e97b13-2916-4cfa-c903-03f79f471902"
      },
      "execution_count": 12,
      "outputs": [
        {
          "output_type": "stream",
          "name": "stdout",
          "text": [
            "1024/1024 [==============================] - 4s 4ms/step - loss: 3.9699 - accuracy: 0.7717\n",
            "Test accuracy: 0.771728515625\n"
          ]
        }
      ]
    },
    {
      "cell_type": "code",
      "source": [],
      "metadata": {
        "id": "LHvwbVwCw3zY"
      },
      "execution_count": null,
      "outputs": []
    }
  ],
  "metadata": {
    "accelerator": "GPU",
    "colab": {
      "provenance": [],
      "gpuType": "T4",
      "authorship_tag": "ABX9TyMcaw+KbiAlbzqbSSEjQq+s"
    },
    "kernelspec": {
      "display_name": "Python 3",
      "name": "python3"
    },
    "language_info": {
      "name": "python"
    }
  },
  "nbformat": 4,
  "nbformat_minor": 0
}