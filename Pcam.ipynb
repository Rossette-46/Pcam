{
  "nbformat": 4,
  "nbformat_minor": 0,
  "metadata": {
    "colab": {
      "provenance": [],
      "gpuType": "T4",
      "authorship_tag": "ABX9TyMmht1sWaMFiWTe7dt9XVQ7"
    },
    "kernelspec": {
      "name": "python3",
      "display_name": "Python 3"
    },
    "language_info": {
      "name": "python"
    },
    "accelerator": "GPU"
  },
  "cells": [
    {
      "cell_type": "markdown",
      "source": [
        "#Citation\n",
        "\n",
        "@ARTICLE{Veeling2018-qh,\n",
        "  title         = \"Rotation Equivariant {CNNs} for Digital Pathology\",\n",
        "  author        = \"Veeling, Bastiaan S and Linmans, Jasper and Winkens, Jim and\n",
        "                   Cohen, Taco and Welling, Max\",\n",
        "  month         =  jun,\n",
        "  year          =  2018,\n",
        "  archivePrefix = \"arXiv\",\n",
        "  primaryClass  = \"cs.CV\",\n",
        "  eprint        = \"1806.03962\"\n",
        "}"
      ],
      "metadata": {
        "id": "v8WCVUHTKy5B"
      }
    },
    {
      "cell_type": "code",
      "source": [
        "from google.colab import drive"
      ],
      "metadata": {
        "id": "y5_RpoyXKQZX"
      },
      "execution_count": 1,
      "outputs": []
    },
    {
      "cell_type": "code",
      "source": [
        "drive.mount('/content/drive')"
      ],
      "metadata": {
        "colab": {
          "base_uri": "https://localhost:8080/"
        },
        "id": "ObL-ebpHJKUL",
        "outputId": "100deec8-732f-4aba-cdae-ad87bf00f559"
      },
      "execution_count": 2,
      "outputs": [
        {
          "output_type": "stream",
          "name": "stdout",
          "text": [
            "Mounted at /content/drive\n"
          ]
        }
      ]
    },
    {
      "cell_type": "code",
      "source": [
        "import h5py\n",
        "import tensorflow as tf\n",
        "from tensorflow.keras.models import Sequential\n",
        "from tensorflow.keras.layers import Input, GlobalAveragePooling2D\n",
        "from tensorflow.keras.layers import Conv2D, MaxPooling2D, Flatten, Dense, Dropout, BatchNormalization"
      ],
      "metadata": {
        "id": "ljRpy-PTJLLr"
      },
      "execution_count": 3,
      "outputs": []
    },
    {
      "cell_type": "code",
      "source": [
        "# Function to load data in batches\n",
        "def load_data_in_batches(file_path_x, file_path_y, batch_size):\n",
        "    with h5py.File(file_path_x, 'r') as data_file_x, h5py.File(file_path_y, 'r') as data_file_y:\n",
        "        data_x = data_file_x['x']\n",
        "        data_y = data_file_y['y'][:]\n",
        "        total_samples = len(data_x)\n",
        "        num_batches = total_samples // batch_size\n",
        "\n",
        "        for i in range(num_batches):\n",
        "            start_idx = i * batch_size\n",
        "            end_idx = min((i + 1) * batch_size, total_samples)\n",
        "            yield data_x[start_idx:end_idx], data_y[start_idx:end_idx].reshape(-1)  # Reshape labels\n"
      ],
      "metadata": {
        "id": "Lf2zHplMJlHL"
      },
      "execution_count": 4,
      "outputs": []
    },
    {
      "cell_type": "code",
      "source": [
        "# Load train data in batches\n",
        "train_batches = load_data_in_batches('/content/drive/My Drive/patch/camelyonpatch_level_2_split_train_x.h5',\n",
        "                                     '/content/drive/My Drive/patch/camelyonpatch_level_2_split_train_y.h5',\n",
        "                                     batch_size=65536)\n"
      ],
      "metadata": {
        "id": "3GdlXfFtJoOM"
      },
      "execution_count": 5,
      "outputs": []
    },
    {
      "cell_type": "code",
      "source": [
        "model = Sequential([\n",
        "    Conv2D(32, (3, 3), activation='relu', input_shape=(96, 96, 3)),\n",
        "    MaxPooling2D((2, 2)),\n",
        "    Conv2D(64, (3, 3), activation='relu'),\n",
        "    MaxPooling2D((2, 2)),\n",
        "\n",
        "    Flatten(),\n",
        "    Dense(256, activation='relu'),\n",
        "    Dropout(0.5),\n",
        "    BatchNormalization(),\n",
        "\n",
        "    Dense(128, activation='relu'),\n",
        "    Dense(1, activation='sigmoid')\n",
        "])\n",
        "\n",
        "model.compile(optimizer='adam', loss='binary_crossentropy', metrics=['accuracy'])"
      ],
      "metadata": {
        "id": "aaRfiZ__Jpn1"
      },
      "execution_count": 6,
      "outputs": []
    },
    {
      "cell_type": "code",
      "source": [
        "# Train the model using the batch generator\n",
        "for batch_x, batch_y in train_batches:\n",
        "    # Prepare validation data\n",
        "    with h5py.File('/content/drive/My Drive/patch/camelyonpatch_level_2_split_valid_x.h5', 'r') as valid_x_file:\n",
        "        valid_x = valid_x_file['x'][:]\n",
        "    with h5py.File('/content/drive/My Drive/patch/camelyonpatch_level_2_split_valid_y.h5', 'r') as valid_y_file:\n",
        "        valid_y = valid_y_file['y'][:].reshape(-1)  # Reshape validation labels\n",
        "\n",
        "    model.fit(batch_x, batch_y, epochs=7, batch_size=32, validation_data=(valid_x, valid_y))"
      ],
      "metadata": {
        "colab": {
          "base_uri": "https://localhost:8080/"
        },
        "id": "g3BIV3gFJtrx",
        "outputId": "678f072c-eded-4912-8525-b27ee3c56017"
      },
      "execution_count": null,
      "outputs": [
        {
          "output_type": "stream",
          "name": "stdout",
          "text": [
            "Epoch 1/7\n",
            "2048/2048 [==============================] - 43s 14ms/step - loss: 0.5315 - accuracy: 0.7359 - val_loss: 0.5194 - val_accuracy: 0.7521\n",
            "Epoch 2/7\n",
            "2048/2048 [==============================] - 24s 12ms/step - loss: 0.4894 - accuracy: 0.7709 - val_loss: 0.5412 - val_accuracy: 0.7455\n",
            "Epoch 3/7\n",
            "2048/2048 [==============================] - 26s 13ms/step - loss: 0.5022 - accuracy: 0.7602 - val_loss: 0.5309 - val_accuracy: 0.7567\n",
            "Epoch 4/7\n",
            "2048/2048 [==============================] - 26s 13ms/step - loss: 0.4708 - accuracy: 0.7849 - val_loss: 0.4660 - val_accuracy: 0.7730\n",
            "Epoch 5/7\n",
            "2048/2048 [==============================] - 27s 13ms/step - loss: 0.4491 - accuracy: 0.7985 - val_loss: 0.4893 - val_accuracy: 0.7888\n",
            "Epoch 6/7\n",
            "2048/2048 [==============================] - 27s 13ms/step - loss: 0.4348 - accuracy: 0.8039 - val_loss: 0.4724 - val_accuracy: 0.7794\n",
            "Epoch 7/7\n",
            "2048/2048 [==============================] - 26s 13ms/step - loss: 0.4114 - accuracy: 0.8175 - val_loss: 0.4735 - val_accuracy: 0.7767\n",
            "Epoch 1/7\n",
            "2048/2048 [==============================] - 28s 14ms/step - loss: 0.4768 - accuracy: 0.7773 - val_loss: 0.4964 - val_accuracy: 0.7474\n",
            "Epoch 2/7\n",
            "2048/2048 [==============================] - 25s 12ms/step - loss: 0.4807 - accuracy: 0.7789 - val_loss: 1.3000 - val_accuracy: 0.7804\n",
            "Epoch 3/7\n",
            "2048/2048 [==============================] - 27s 13ms/step - loss: 0.4886 - accuracy: 0.7673 - val_loss: 0.6127 - val_accuracy: 0.7775\n",
            "Epoch 4/7\n",
            "1709/2048 [========================>.....] - ETA: 3s - loss: 0.4419 - accuracy: 0.8015"
          ]
        }
      ]
    },
    {
      "cell_type": "code",
      "source": [],
      "metadata": {
        "id": "t4ckfmCOJ5GZ"
      },
      "execution_count": null,
      "outputs": []
    }
  ]
}